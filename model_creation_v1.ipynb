{
 "cells": [
  {
   "cell_type": "markdown",
   "id": "ef9cb918-a8c0-4423-a5b3-c7956b8eaeaa",
   "metadata": {},
   "source": [
    "#### importing necessary packages"
   ]
  },
  {
   "cell_type": "code",
   "execution_count": 26,
   "id": "b14cf66c-c5db-4970-99eb-75da684e0376",
   "metadata": {},
   "outputs": [],
   "source": [
    "import pandas as pd\n",
    "from ydata_profiling import ProfileReport\n",
    "import matplotlib.pyplot as plt\n",
    "import numpy as np\n",
    "import seaborn as sns\n",
    "from sklearn.model_selection import train_test_split\n",
    "from sklearn.preprocessing import OneHotEncoder\n",
    "from imblearn.over_sampling import SMOTE\n",
    "from sklearn.impute import SimpleImputer\n",
    "from sklearn.impute import KNNImputer\n",
    "from sklearn.preprocessing import PowerTransformer"
   ]
  },
  {
   "cell_type": "markdown",
   "id": "b9f6a551-b2c8-4991-a5a4-e440dd3b1146",
   "metadata": {},
   "source": [
    "#### reading the csv"
   ]
  },
  {
   "cell_type": "code",
   "execution_count": 27,
   "id": "5bc6169e-e372-4e8c-91ed-9c265f9216bc",
   "metadata": {},
   "outputs": [],
   "source": [
    "df = pd.read_csv(\"data/all_data.csv\")"
   ]
  },
  {
   "cell_type": "markdown",
   "id": "9b25be11-daf1-434e-a21f-b82b65797d42",
   "metadata": {},
   "source": [
    "#### rendering the profile report"
   ]
  },
  {
   "cell_type": "code",
   "execution_count": 28,
   "id": "7116d5ce-60a0-42f8-b609-b348b4a4f1fc",
   "metadata": {},
   "outputs": [],
   "source": [
    "# profile = ProfileReport(df, title=\"Profiling Report\", minimal=True)"
   ]
  },
  {
   "cell_type": "code",
   "execution_count": 29,
   "id": "b1b4d1db-e151-42b1-8537-47521af4ae86",
   "metadata": {},
   "outputs": [],
   "source": [
    "# profile.to_file('profiling_report.html')"
   ]
  },
  {
   "cell_type": "markdown",
   "id": "805e5681-5ea0-4603-88d8-f9427d14a775",
   "metadata": {},
   "source": [
    "## Training with numerical features"
   ]
  },
  {
   "cell_type": "markdown",
   "id": "0acd08bd-6016-4771-8c83-1495c90d4482",
   "metadata": {},
   "source": [
    "#### sampling data"
   ]
  },
  {
   "cell_type": "code",
   "execution_count": 30,
   "id": "515cece6-f2d9-4e00-9b99-16b1a3b17ad9",
   "metadata": {},
   "outputs": [
    {
     "name": "stdout",
     "output_type": "stream",
     "text": [
      "(246008, 115)\n",
      "(61503, 115)\n",
      "(246008,)\n",
      "(61503,)\n"
     ]
    }
   ],
   "source": [
    "X = df.drop('TARGET', axis=1)\n",
    "y = df['TARGET']\n",
    "X_train, X_test, y_train, y_test = train_test_split(X, y, test_size=0.2, stratify=y, random_state=42)\n",
    "print(X_train.shape)\n",
    "print(X_test.shape)\n",
    "print(y_train.shape)\n",
    "print(y_test.shape)"
   ]
  },
  {
   "cell_type": "code",
   "execution_count": 31,
   "id": "7401e793-b360-4112-8119-36c5a7229318",
   "metadata": {},
   "outputs": [
    {
     "data": {
      "image/png": "[encoded data removed]",
      "text/plain": [
       "<Figure size 640x480 with 1 Axes>"
      ]
     },
     "metadata": {},
     "output_type": "display_data"
    }
   ],
   "source": [
    "plt.hist(y_train, bins=[-0.5, 0.5, 1.5], edgecolor='black', align='mid')\n",
    "plt.xticks([0, 1])\n",
    "plt.xlabel('Class')\n",
    "plt.ylabel('Frequency')\n",
    "plt.show()"
   ]
  },
  {
   "cell_type": "code",
   "execution_count": 32,
   "id": "7893d7c5-15bc-44a9-9340-f00819192096",
   "metadata": {},
   "outputs": [
    {
     "data": {
      "image/png": "[encoded data removed]",
      "text/plain": [
       "<Figure size 640x480 with 1 Axes>"
      ]
     },
     "metadata": {},
     "output_type": "display_data"
    }
   ],
   "source": [
    "plt.hist(y_test, bins=[-0.5, 0.5, 1.5], edgecolor='black', align='mid')\n",
    "plt.xticks([0, 1])\n",
    "plt.xlabel('Class')\n",
    "plt.ylabel('Frequency')\n",
    "plt.show()"
   ]
  },
  {
   "cell_type": "markdown",
   "id": "869c038e-e80c-4a24-812f-8babadc60953",
   "metadata": {},
   "source": [
    "#### Drop non corelated data"
   ]
  },
  {
   "cell_type": "code",
   "execution_count": 33,
   "id": "23447e04-072e-4c67-add0-55f076cd3761",
   "metadata": {},
   "outputs": [
    {
     "data": {
      "text/html": [
       "<div>\n",
       "<style scoped>\n",
       "    .dataframe tbody tr th:only-of-type {\n",
       "        vertical-align: middle;\n",
       "    }\n",
       "\n",
       "    .dataframe tbody tr th {\n",
       "        vertical-align: top;\n",
       "    }\n",
       "\n",
       "    .dataframe thead th {\n",
       "        text-align: right;\n",
       "    }\n",
       "</style>\n",
       "<table border=\"1\" class=\"dataframe\">\n",
       "  <thead>\n",
       "    <tr style=\"text-align: right;\">\n",
       "      <th></th>\n",
       "      <th>Unnamed: 0</th>\n",
       "      <th>SK_ID_CURR</th>\n",
       "      <th>CNT_CHILDREN</th>\n",
       "      <th>AMT_INCOME_TOTAL</th>\n",
       "      <th>AMT_CREDIT</th>\n",
       "      <th>AMT_ANNUITY</th>\n",
       "      <th>AMT_GOODS_PRICE</th>\n",
       "      <th>REGION_POPULATION_RELATIVE</th>\n",
       "      <th>DAYS_BIRTH</th>\n",
       "      <th>DAYS_EMPLOYED</th>\n",
       "      <th>...</th>\n",
       "      <th>CREDIT_TYPE_Consumer credit_SUM</th>\n",
       "      <th>CREDIT_TYPE_Consumer credit_MEAN</th>\n",
       "      <th>CREDIT_TYPE_Credit card_SUM</th>\n",
       "      <th>CREDIT_TYPE_Credit card_MEAN</th>\n",
       "      <th>MONTHS_CREDIT_COUNT</th>\n",
       "      <th>MONTHS_CREDIT_SUM</th>\n",
       "      <th>MONTHS_CREDIT_MEAN</th>\n",
       "      <th>MONTHS_CREDIT_MAX</th>\n",
       "      <th>MONTHS_CREDIT_MIN</th>\n",
       "      <th>TARGET</th>\n",
       "    </tr>\n",
       "  </thead>\n",
       "  <tbody>\n",
       "    <tr>\n",
       "      <th>Unnamed: 0</th>\n",
       "      <td>1.000000</td>\n",
       "      <td>0.999999</td>\n",
       "      <td>-0.001402</td>\n",
       "      <td>-0.002336</td>\n",
       "      <td>0.000737</td>\n",
       "      <td>0.001071</td>\n",
       "      <td>0.001140</td>\n",
       "      <td>-0.000801</td>\n",
       "      <td>0.002657</td>\n",
       "      <td>0.001946</td>\n",
       "      <td>...</td>\n",
       "      <td>0.001636</td>\n",
       "      <td>-0.001767</td>\n",
       "      <td>0.003273</td>\n",
       "      <td>0.001544</td>\n",
       "      <td>0.002033</td>\n",
       "      <td>0.001038</td>\n",
       "      <td>-0.000535</td>\n",
       "      <td>0.000985</td>\n",
       "      <td>-0.002330</td>\n",
       "      <td>-0.002207</td>\n",
       "    </tr>\n",
       "    <tr>\n",
       "      <th>SK_ID_CURR</th>\n",
       "      <td>0.999999</td>\n",
       "      <td>1.000000</td>\n",
       "      <td>-0.001401</td>\n",
       "      <td>-0.002337</td>\n",
       "      <td>0.000736</td>\n",
       "      <td>0.001073</td>\n",
       "      <td>0.001140</td>\n",
       "      <td>-0.000801</td>\n",
       "      <td>0.002655</td>\n",
       "      <td>0.001948</td>\n",
       "      <td>...</td>\n",
       "      <td>0.001638</td>\n",
       "      <td>-0.001769</td>\n",
       "      <td>0.003274</td>\n",
       "      <td>0.001546</td>\n",
       "      <td>0.002035</td>\n",
       "      <td>0.001036</td>\n",
       "      <td>-0.000536</td>\n",
       "      <td>0.000982</td>\n",
       "      <td>-0.002328</td>\n",
       "      <td>-0.002204</td>\n",
       "    </tr>\n",
       "    <tr>\n",
       "      <th>CNT_CHILDREN</th>\n",
       "      <td>-0.001402</td>\n",
       "      <td>-0.001401</td>\n",
       "      <td>1.000000</td>\n",
       "      <td>0.012004</td>\n",
       "      <td>0.002401</td>\n",
       "      <td>0.021200</td>\n",
       "      <td>-0.001731</td>\n",
       "      <td>-0.026412</td>\n",
       "      <td>-0.330948</td>\n",
       "      <td>-0.241732</td>\n",
       "      <td>...</td>\n",
       "      <td>-0.002850</td>\n",
       "      <td>-0.023056</td>\n",
       "      <td>0.000244</td>\n",
       "      <td>-0.001622</td>\n",
       "      <td>0.003200</td>\n",
       "      <td>0.022868</td>\n",
       "      <td>0.018262</td>\n",
       "      <td>0.024999</td>\n",
       "      <td>0.001915</td>\n",
       "      <td>0.020347</td>\n",
       "    </tr>\n",
       "    <tr>\n",
       "      <th>AMT_INCOME_TOTAL</th>\n",
       "      <td>-0.002336</td>\n",
       "      <td>-0.002337</td>\n",
       "      <td>0.012004</td>\n",
       "      <td>1.000000</td>\n",
       "      <td>0.143809</td>\n",
       "      <td>0.174736</td>\n",
       "      <td>0.146198</td>\n",
       "      <td>0.068077</td>\n",
       "      <td>-0.024687</td>\n",
       "      <td>-0.058016</td>\n",
       "      <td>...</td>\n",
       "      <td>0.019888</td>\n",
       "      <td>-0.048420</td>\n",
       "      <td>0.052100</td>\n",
       "      <td>0.023738</td>\n",
       "      <td>0.042128</td>\n",
       "      <td>0.045734</td>\n",
       "      <td>0.018176</td>\n",
       "      <td>0.031235</td>\n",
       "      <td>-0.001375</td>\n",
       "      <td>-0.002727</td>\n",
       "    </tr>\n",
       "    <tr>\n",
       "      <th>AMT_CREDIT</th>\n",
       "      <td>0.000737</td>\n",
       "      <td>0.000736</td>\n",
       "      <td>0.002401</td>\n",
       "      <td>0.143809</td>\n",
       "      <td>1.000000</td>\n",
       "      <td>0.770163</td>\n",
       "      <td>0.987000</td>\n",
       "      <td>0.101601</td>\n",
       "      <td>0.057428</td>\n",
       "      <td>-0.062508</td>\n",
       "      <td>...</td>\n",
       "      <td>0.023671</td>\n",
       "      <td>-0.063315</td>\n",
       "      <td>0.071982</td>\n",
       "      <td>0.031676</td>\n",
       "      <td>0.054247</td>\n",
       "      <td>0.044635</td>\n",
       "      <td>0.002277</td>\n",
       "      <td>0.021310</td>\n",
       "      <td>-0.013352</td>\n",
       "      <td>-0.030803</td>\n",
       "    </tr>\n",
       "    <tr>\n",
       "      <th>...</th>\n",
       "      <td>...</td>\n",
       "      <td>...</td>\n",
       "      <td>...</td>\n",
       "      <td>...</td>\n",
       "      <td>...</td>\n",
       "      <td>...</td>\n",
       "      <td>...</td>\n",
       "      <td>...</td>\n",
       "      <td>...</td>\n",
       "      <td>...</td>\n",
       "      <td>...</td>\n",
       "      <td>...</td>\n",
       "      <td>...</td>\n",
       "      <td>...</td>\n",
       "      <td>...</td>\n",
       "      <td>...</td>\n",
       "      <td>...</td>\n",
       "      <td>...</td>\n",
       "      <td>...</td>\n",
       "      <td>...</td>\n",
       "      <td>...</td>\n",
       "    </tr>\n",
       "    <tr>\n",
       "      <th>MONTHS_CREDIT_SUM</th>\n",
       "      <td>0.001038</td>\n",
       "      <td>0.001036</td>\n",
       "      <td>0.022868</td>\n",
       "      <td>0.045734</td>\n",
       "      <td>0.044635</td>\n",
       "      <td>0.038045</td>\n",
       "      <td>0.046609</td>\n",
       "      <td>0.025940</td>\n",
       "      <td>-0.067652</td>\n",
       "      <td>-0.096378</td>\n",
       "      <td>...</td>\n",
       "      <td>0.303170</td>\n",
       "      <td>-0.223791</td>\n",
       "      <td>0.555504</td>\n",
       "      <td>0.240935</td>\n",
       "      <td>0.447848</td>\n",
       "      <td>1.000000</td>\n",
       "      <td>0.640176</td>\n",
       "      <td>0.900829</td>\n",
       "      <td>0.123875</td>\n",
       "      <td>0.030266</td>\n",
       "    </tr>\n",
       "    <tr>\n",
       "      <th>MONTHS_CREDIT_MEAN</th>\n",
       "      <td>-0.000535</td>\n",
       "      <td>-0.000536</td>\n",
       "      <td>0.018262</td>\n",
       "      <td>0.018176</td>\n",
       "      <td>0.002277</td>\n",
       "      <td>0.013701</td>\n",
       "      <td>0.002592</td>\n",
       "      <td>0.039834</td>\n",
       "      <td>-0.119815</td>\n",
       "      <td>-0.094702</td>\n",
       "      <td>...</td>\n",
       "      <td>-0.126103</td>\n",
       "      <td>-0.392005</td>\n",
       "      <td>0.197409</td>\n",
       "      <td>0.396314</td>\n",
       "      <td>-0.036301</td>\n",
       "      <td>0.640176</td>\n",
       "      <td>1.000000</td>\n",
       "      <td>0.728263</td>\n",
       "      <td>0.644932</td>\n",
       "      <td>0.030472</td>\n",
       "    </tr>\n",
       "    <tr>\n",
       "      <th>MONTHS_CREDIT_MAX</th>\n",
       "      <td>0.000985</td>\n",
       "      <td>0.000982</td>\n",
       "      <td>0.024999</td>\n",
       "      <td>0.031235</td>\n",
       "      <td>0.021310</td>\n",
       "      <td>0.026520</td>\n",
       "      <td>0.022754</td>\n",
       "      <td>0.032654</td>\n",
       "      <td>-0.097753</td>\n",
       "      <td>-0.104053</td>\n",
       "      <td>...</td>\n",
       "      <td>0.138532</td>\n",
       "      <td>-0.260272</td>\n",
       "      <td>0.407259</td>\n",
       "      <td>0.278468</td>\n",
       "      <td>0.254525</td>\n",
       "      <td>0.900829</td>\n",
       "      <td>0.728263</td>\n",
       "      <td>1.000000</td>\n",
       "      <td>0.164059</td>\n",
       "      <td>0.031487</td>\n",
       "    </tr>\n",
       "    <tr>\n",
       "      <th>MONTHS_CREDIT_MIN</th>\n",
       "      <td>-0.002330</td>\n",
       "      <td>-0.002328</td>\n",
       "      <td>0.001915</td>\n",
       "      <td>-0.001375</td>\n",
       "      <td>-0.013352</td>\n",
       "      <td>-0.001854</td>\n",
       "      <td>-0.013732</td>\n",
       "      <td>0.014358</td>\n",
       "      <td>-0.060261</td>\n",
       "      <td>-0.032221</td>\n",
       "      <td>...</td>\n",
       "      <td>-0.164491</td>\n",
       "      <td>-0.257742</td>\n",
       "      <td>-0.040501</td>\n",
       "      <td>0.245665</td>\n",
       "      <td>-0.150473</td>\n",
       "      <td>0.123875</td>\n",
       "      <td>0.644932</td>\n",
       "      <td>0.164059</td>\n",
       "      <td>1.000000</td>\n",
       "      <td>0.010595</td>\n",
       "    </tr>\n",
       "    <tr>\n",
       "      <th>TARGET</th>\n",
       "      <td>-0.002207</td>\n",
       "      <td>-0.002204</td>\n",
       "      <td>0.020347</td>\n",
       "      <td>-0.002727</td>\n",
       "      <td>-0.030803</td>\n",
       "      <td>-0.012734</td>\n",
       "      <td>-0.039895</td>\n",
       "      <td>-0.037166</td>\n",
       "      <td>-0.079467</td>\n",
       "      <td>-0.047481</td>\n",
       "      <td>...</td>\n",
       "      <td>-0.009500</td>\n",
       "      <td>-0.025545</td>\n",
       "      <td>0.034992</td>\n",
       "      <td>0.034039</td>\n",
       "      <td>-0.002820</td>\n",
       "      <td>0.030266</td>\n",
       "      <td>0.030472</td>\n",
       "      <td>0.031487</td>\n",
       "      <td>0.010595</td>\n",
       "      <td>1.000000</td>\n",
       "    </tr>\n",
       "  </tbody>\n",
       "</table>\n",
       "<p>104 rows × 104 columns</p>\n",
       "</div>"
      ],
      "text/plain": [
       "                    Unnamed: 0  SK_ID_CURR  CNT_CHILDREN  AMT_INCOME_TOTAL  \\\n",
       "Unnamed: 0            1.000000    0.999999     -0.001402         -0.002336   \n",
       "SK_ID_CURR            0.999999    1.000000     -0.001401         -0.002337   \n",
       "CNT_CHILDREN         -0.001402   -0.001401      1.000000          0.012004   \n",
       "AMT_INCOME_TOTAL     -0.002336   -0.002337      0.012004          1.000000   \n",
       "AMT_CREDIT            0.000737    0.000736      0.002401          0.143809   \n",
       "...                        ...         ...           ...               ...   \n",
       "MONTHS_CREDIT_SUM     0.001038    0.001036      0.022868          0.045734   \n",
       "MONTHS_CREDIT_MEAN   -0.000535   -0.000536      0.018262          0.018176   \n",
       "MONTHS_CREDIT_MAX     0.000985    0.000982      0.024999          0.031235   \n",
       "MONTHS_CREDIT_MIN    -0.002330   -0.002328      0.001915         -0.001375   \n",
       "TARGET               -0.002207   -0.002204      0.020347         -0.002727   \n",
       "\n",
       "                    AMT_CREDIT  AMT_ANNUITY  AMT_GOODS_PRICE  \\\n",
       "Unnamed: 0            0.000737     0.001071         0.001140   \n",
       "SK_ID_CURR            0.000736     0.001073         0.001140   \n",
       "CNT_CHILDREN          0.002401     0.021200        -0.001731   \n",
       "AMT_INCOME_TOTAL      0.143809     0.174736         0.146198   \n",
       "AMT_CREDIT            1.000000     0.770163         0.987000   \n",
       "...                        ...          ...              ...   \n",
       "MONTHS_CREDIT_SUM     0.044635     0.038045         0.046609   \n",
       "MONTHS_CREDIT_MEAN    0.002277     0.013701         0.002592   \n",
       "MONTHS_CREDIT_MAX     0.021310     0.026520         0.022754   \n",
       "MONTHS_CREDIT_MIN    -0.013352    -0.001854        -0.013732   \n",
       "TARGET               -0.030803    -0.012734        -0.039895   \n",
       "\n",
       "                    REGION_POPULATION_RELATIVE  DAYS_BIRTH  DAYS_EMPLOYED  \\\n",
       "Unnamed: 0                           -0.000801    0.002657       0.001946   \n",
       "SK_ID_CURR                           -0.000801    0.002655       0.001948   \n",
       "CNT_CHILDREN                         -0.026412   -0.330948      -0.241732   \n",
       "AMT_INCOME_TOTAL                      0.068077   -0.024687      -0.058016   \n",
       "AMT_CREDIT                            0.101601    0.057428      -0.062508   \n",
       "...                                        ...         ...            ...   \n",
       "MONTHS_CREDIT_SUM                     0.025940   -0.067652      -0.096378   \n",
       "MONTHS_CREDIT_MEAN                    0.039834   -0.119815      -0.094702   \n",
       "MONTHS_CREDIT_MAX                     0.032654   -0.097753      -0.104053   \n",
       "MONTHS_CREDIT_MIN                     0.014358   -0.060261      -0.032221   \n",
       "TARGET                               -0.037166   -0.079467      -0.047481   \n",
       "\n",
       "                    ...  CREDIT_TYPE_Consumer credit_SUM  \\\n",
       "Unnamed: 0          ...                         0.001636   \n",
       "SK_ID_CURR          ...                         0.001638   \n",
       "CNT_CHILDREN        ...                        -0.002850   \n",
       "AMT_INCOME_TOTAL    ...                         0.019888   \n",
       "AMT_CREDIT          ...                         0.023671   \n",
       "...                 ...                              ...   \n",
       "MONTHS_CREDIT_SUM   ...                         0.303170   \n",
       "MONTHS_CREDIT_MEAN  ...                        -0.126103   \n",
       "MONTHS_CREDIT_MAX   ...                         0.138532   \n",
       "MONTHS_CREDIT_MIN   ...                        -0.164491   \n",
       "TARGET              ...                        -0.009500   \n",
       "\n",
       "                    CREDIT_TYPE_Consumer credit_MEAN  \\\n",
       "Unnamed: 0                                 -0.001767   \n",
       "SK_ID_CURR                                 -0.001769   \n",
       "CNT_CHILDREN                               -0.023056   \n",
       "AMT_INCOME_TOTAL                           -0.048420   \n",
       "AMT_CREDIT                                 -0.063315   \n",
       "...                                              ...   \n",
       "MONTHS_CREDIT_SUM                          -0.223791   \n",
       "MONTHS_CREDIT_MEAN                         -0.392005   \n",
       "MONTHS_CREDIT_MAX                          -0.260272   \n",
       "MONTHS_CREDIT_MIN                          -0.257742   \n",
       "TARGET                                     -0.025545   \n",
       "\n",
       "                    CREDIT_TYPE_Credit card_SUM  CREDIT_TYPE_Credit card_MEAN  \\\n",
       "Unnamed: 0                             0.003273                      0.001544   \n",
       "SK_ID_CURR                             0.003274                      0.001546   \n",
       "CNT_CHILDREN                           0.000244                     -0.001622   \n",
       "AMT_INCOME_TOTAL                       0.052100                      0.023738   \n",
       "AMT_CREDIT                             0.071982                      0.031676   \n",
       "...                                         ...                           ...   \n",
       "MONTHS_CREDIT_SUM                      0.555504                      0.240935   \n",
       "MONTHS_CREDIT_MEAN                     0.197409                      0.396314   \n",
       "MONTHS_CREDIT_MAX                      0.407259                      0.278468   \n",
       "MONTHS_CREDIT_MIN                     -0.040501                      0.245665   \n",
       "TARGET                                 0.034992                      0.034039   \n",
       "\n",
       "                    MONTHS_CREDIT_COUNT  MONTHS_CREDIT_SUM  \\\n",
       "Unnamed: 0                     0.002033           0.001038   \n",
       "SK_ID_CURR                     0.002035           0.001036   \n",
       "CNT_CHILDREN                   0.003200           0.022868   \n",
       "AMT_INCOME_TOTAL               0.042128           0.045734   \n",
       "AMT_CREDIT                     0.054247           0.044635   \n",
       "...                                 ...                ...   \n",
       "MONTHS_CREDIT_SUM              0.447848           1.000000   \n",
       "MONTHS_CREDIT_MEAN            -0.036301           0.640176   \n",
       "MONTHS_CREDIT_MAX              0.254525           0.900829   \n",
       "MONTHS_CREDIT_MIN             -0.150473           0.123875   \n",
       "TARGET                        -0.002820           0.030266   \n",
       "\n",
       "                    MONTHS_CREDIT_MEAN  MONTHS_CREDIT_MAX  MONTHS_CREDIT_MIN  \\\n",
       "Unnamed: 0                   -0.000535           0.000985          -0.002330   \n",
       "SK_ID_CURR                   -0.000536           0.000982          -0.002328   \n",
       "CNT_CHILDREN                  0.018262           0.024999           0.001915   \n",
       "AMT_INCOME_TOTAL              0.018176           0.031235          -0.001375   \n",
       "AMT_CREDIT                    0.002277           0.021310          -0.013352   \n",
       "...                                ...                ...                ...   \n",
       "MONTHS_CREDIT_SUM             0.640176           0.900829           0.123875   \n",
       "MONTHS_CREDIT_MEAN            1.000000           0.728263           0.644932   \n",
       "MONTHS_CREDIT_MAX             0.728263           1.000000           0.164059   \n",
       "MONTHS_CREDIT_MIN             0.644932           0.164059           1.000000   \n",
       "TARGET                        0.030472           0.031487           0.010595   \n",
       "\n",
       "                      TARGET  \n",
       "Unnamed: 0         -0.002207  \n",
       "SK_ID_CURR         -0.002204  \n",
       "CNT_CHILDREN        0.020347  \n",
       "AMT_INCOME_TOTAL   -0.002727  \n",
       "AMT_CREDIT         -0.030803  \n",
       "...                      ...  \n",
       "MONTHS_CREDIT_SUM   0.030266  \n",
       "MONTHS_CREDIT_MEAN  0.030472  \n",
       "MONTHS_CREDIT_MAX   0.031487  \n",
       "MONTHS_CREDIT_MIN   0.010595  \n",
       "TARGET              1.000000  \n",
       "\n",
       "[104 rows x 104 columns]"
      ]
     },
     "execution_count": 33,
     "metadata": {},
     "output_type": "execute_result"
    }
   ],
   "source": [
    "X_train['TARGET'] = y_train\n",
    "X_train = X_train.select_dtypes(include=['float64', 'int64'])\n",
    "X_test = X_test.select_dtypes(include=['float64', 'int64'])\n",
    "corr = X_train.corr()\n",
    "corr"
   ]
  },
  {
   "cell_type": "code",
   "execution_count": 34,
   "id": "1cca8037-c273-4139-b886-77e4a8286544",
   "metadata": {},
   "outputs": [
    {
     "data": {
      "text/plain": [
       "AMT_ANNUITY_SUM                0.000159\n",
       "AMT_CREDIT_SUM_DEBT_MEAN       0.000940\n",
       "AMT_REQ_CREDIT_BUREAU_HOUR     0.001215\n",
       "AMT_REQ_CREDIT_BUREAU_WEEK     0.001596\n",
       "AMT_CREDIT_MAX_OVERDUE_MIN     0.001661\n",
       "AMT_CREDIT_MAX_OVERDUE_MEAN    0.001704\n",
       "AMT_CREDIT_MAX_OVERDUE_MAX     0.001807\n",
       "CNT_CREDIT_PROLONG_MEAN        0.002087\n",
       "SK_ID_CURR                     0.002204\n",
       "Unnamed: 0                     0.002207\n",
       "Name: TARGET, dtype: float64"
      ]
     },
     "execution_count": 34,
     "metadata": {},
     "output_type": "execute_result"
    }
   ],
   "source": [
    "corrt = abs(corr['TARGET'])\n",
    "corrt.sort_values(ascending=True).head(10)"
   ]
  },
  {
   "cell_type": "markdown",
   "id": "d3314c34-be74-4f17-95e6-89c65adbf5d2",
   "metadata": {},
   "source": [
    "drop EXT_SOURCE_1, EXT_SOURCE_2, EXT_SOURCE_3"
   ]
  },
  {
   "cell_type": "code",
   "execution_count": 35,
   "id": "70c72347-8692-48b5-81c7-86e3add0bc2d",
   "metadata": {},
   "outputs": [],
   "source": [
    "# X_train = df_numerical_train.drop(['EXT_SOURCE_3', 'EXT_SOURCE_2', 'EXT_SOURCE_1', 'TARGET'], axis=1)\n",
    "# X_test = df_numerical_test.drop(['EXT_SOURCE_3', 'EXT_SOURCE_2', 'EXT_SOURCE_1'], axis=1)\n",
    "\n",
    "# X_train = df_numerical_train.drop(['FLAG_DOCUMENT_5', 'NONLIVINGAPARTMENTS_AVG', 'FLAG_EMAIL', 'FLAG_DOCUMENT_12', 'FLAG_DOCUMENT_7', 'TARGET'], axis=1)\n",
    "# X_test = df_numerical_test.drop(['FLAG_DOCUMENT_5', 'NONLIVINGAPARTMENTS_AVG', 'FLAG_EMAIL', 'FLAG_DOCUMENT_12', 'FLAG_DOCUMENT_7'], axis=1)"
   ]
  },
  {
   "cell_type": "code",
   "execution_count": 36,
   "id": "6694d96e",
   "metadata": {},
   "outputs": [],
   "source": [
    "X_train.drop('TARGET', axis=1, inplace=True)"
   ]
  },
  {
   "cell_type": "markdown",
   "id": "54286054-c73c-4d79-bb36-03a3cda2984b",
   "metadata": {},
   "source": [
    "#### model training with XGBoost only using numerical data"
   ]
  },
  {
   "cell_type": "code",
   "execution_count": 37,
   "id": "240a8481-34b0-400d-900f-4b432edcee22",
   "metadata": {},
   "outputs": [
    {
     "name": "stdout",
     "output_type": "stream",
     "text": [
      "[[56347   191]\n",
      " [ 4781   184]]\n"
     ]
    }
   ],
   "source": [
    "import xgboost as xgb\n",
    "from sklearn.metrics import confusion_matrix\n",
    "from sklearn.preprocessing import StandardScaler\n",
    "\n",
    "# Prepare data\n",
    "X_train_selected = np.array(X_train)\n",
    "X_test_selected = np.array(X_test)\n",
    "\n",
    "stdscl = StandardScaler()\n",
    "X_train_selected = stdscl.fit_transform(X_train_selected)\n",
    "X_test_selected = stdscl.transform(X_test_selected)\n",
    "\n",
    "# Train XGBoost classifier\n",
    "model = xgb.XGBClassifier()\n",
    "model.fit(X_train_selected, y_train)\n",
    "\n",
    "# Predict and evaluate\n",
    "y_pred = model.predict(X_test_selected)\n",
    "print(confusion_matrix(y_test, y_pred))"
   ]
  },
  {
   "cell_type": "markdown",
   "id": "22ec4557-9c60-4e64-991d-28a2115a1e75",
   "metadata": {},
   "source": [
    "## Training with categorical + numerical features"
   ]
  },
  {
   "cell_type": "markdown",
   "id": "d6fb856b-3750-48a1-bc3a-ee60d55b7263",
   "metadata": {},
   "source": [
    "#### Train/Test Split"
   ]
  },
  {
   "cell_type": "code",
   "execution_count": 38,
   "id": "e6f57323-8c12-4067-96ed-b7ca4ba2f489",
   "metadata": {},
   "outputs": [
    {
     "name": "stdout",
     "output_type": "stream",
     "text": [
      "(246008, 115)\n",
      "(61503, 115)\n",
      "(246008,)\n",
      "(61503,)\n"
     ]
    }
   ],
   "source": [
    "X = df.drop('TARGET', axis=1)\n",
    "y = df['TARGET']\n",
    "X_train, X_test, y_train, y_test = train_test_split(X, y, test_size=0.2, stratify=y, random_state=42)\n",
    "\n",
    "print(X_train.shape)\n",
    "print(X_test.shape)\n",
    "print(y_train.shape)\n",
    "print(y_test.shape)"
   ]
  },
  {
   "cell_type": "markdown",
   "id": "e96746d6-280b-4ca3-8922-7c5370169a95",
   "metadata": {},
   "source": [
    "#### Encoding categorical features"
   ]
  },
  {
   "cell_type": "markdown",
   "id": "7f9627ce-476a-42a2-a9b2-3a497f09418c",
   "metadata": {},
   "source": [
    "##### function to convert Yes/Y to 1 and No/N to 0 in FLAG_OWN_CAR, FLAG_OWN_REALTY and EMERGENCYSTATE_MODE columns"
   ]
  },
  {
   "cell_type": "code",
   "execution_count": 39,
   "id": "e417e044-f004-4bef-ba98-814f99e8617e",
   "metadata": {},
   "outputs": [],
   "source": [
    "def encode_bin(X):\n",
    "    pd.set_option(\"future.no_silent_downcasting\", True)\n",
    "    \n",
    "    X['FLAG_OWN_CAR'] = X['FLAG_OWN_CAR'].replace({'Y': 1, 'N': 0})\n",
    "    X['FLAG_OWN_CAR'] = X['FLAG_OWN_CAR'].astype('float64')\n",
    "    # print(X['FLAG_OWN_CAR'].head(3))\n",
    "    \n",
    "    X['FLAG_OWN_REALTY'] = X['FLAG_OWN_REALTY'].replace({'Y': 1, 'N': 0}) \n",
    "    X['FLAG_OWN_REALTY'] = X['FLAG_OWN_REALTY'].astype('float64')\n",
    "    # print(X['FLAG_OWN_REALTY'].head(3))\n",
    "    \n",
    "    X['EMERGENCYSTATE_MODE'] = X['EMERGENCYSTATE_MODE'].replace({'Yes': 1, 'No': 0})\n",
    "    X['EMERGENCYSTATE_MODE'] = X['EMERGENCYSTATE_MODE'].astype('float64')\n",
    "    # print(X_train['EMERGENCYSTATE_MODE'].head(3))\n",
    "    return X"
   ]
  },
  {
   "cell_type": "code",
   "execution_count": 40,
   "id": "1f401264-df25-4bbc-8d2c-eb312a6fb421",
   "metadata": {},
   "outputs": [],
   "source": [
    "X_train = encode_bin(X_train)\n",
    "X_test = encode_bin(X_test)"
   ]
  },
  {
   "cell_type": "markdown",
   "id": "56542bb5-bc82-4054-93f6-f9d211ba70a1",
   "metadata": {},
   "source": [
    "##### function to raplace nulls in cat cols with 'unknown' for preventing undesired behaviour in one-hot-encoding"
   ]
  },
  {
   "cell_type": "code",
   "execution_count": 41,
   "id": "06669710-a9e5-4640-91b7-dfaa2616373c",
   "metadata": {},
   "outputs": [],
   "source": [
    "def replace_nulls(X):\n",
    "    categorical = X.select_dtypes(include=['object'])\n",
    "    cat_cols = categorical.columns.tolist()\n",
    "    print(cat_cols)\n",
    "    uniques_sum = 0\n",
    "    # print('number of unique values in each column and nulls')\n",
    "    for cat_col in cat_cols:\n",
    "        unique_cnt = len(categorical[cat_col].unique())\n",
    "        null_cnt = categorical[cat_col].isna().sum()\n",
    "        \n",
    "        if(null_cnt > 0):\n",
    "            X[cat_col] = X[cat_col].fillna('unknown')\n",
    "    \n",
    "        # null_cnt_updated = X_train[cat_col].isna().sum()\n",
    "        # print(f'{cat_col}:{unique_cnt}, null:{null_cnt_updated}')\n",
    "        # uniques_sum += unique_cnt\n",
    "    # print()\n",
    "    # print(f\"total unique value counts:{uniques_sum}\")\n",
    "    return X"
   ]
  },
  {
   "cell_type": "code",
   "execution_count": 42,
   "id": "99ed7b8b-9805-47a9-a832-7194b462f1ba",
   "metadata": {},
   "outputs": [
    {
     "name": "stdout",
     "output_type": "stream",
     "text": [
      "['CODE_GENDER', 'NAME_TYPE_SUITE', 'NAME_INCOME_TYPE', 'NAME_EDUCATION_TYPE', 'NAME_FAMILY_STATUS', 'NAME_HOUSING_TYPE', 'OCCUPATION_TYPE', 'WEEKDAY_APPR_PROCESS_START', 'ORGANIZATION_TYPE']\n",
      "['CODE_GENDER', 'NAME_TYPE_SUITE', 'NAME_INCOME_TYPE', 'NAME_EDUCATION_TYPE', 'NAME_FAMILY_STATUS', 'NAME_HOUSING_TYPE', 'OCCUPATION_TYPE', 'WEEKDAY_APPR_PROCESS_START', 'ORGANIZATION_TYPE']\n",
      "After replacing nulls in categorical features with 'Unknown' null counts are as follows\n"
     ]
    },
    {
     "data": {
      "text/plain": [
       "CODE_GENDER                   0\n",
       "NAME_TYPE_SUITE               0\n",
       "NAME_INCOME_TYPE              0\n",
       "NAME_EDUCATION_TYPE           0\n",
       "NAME_FAMILY_STATUS            0\n",
       "NAME_HOUSING_TYPE             0\n",
       "OCCUPATION_TYPE               0\n",
       "WEEKDAY_APPR_PROCESS_START    0\n",
       "ORGANIZATION_TYPE             0\n",
       "dtype: int64"
      ]
     },
     "execution_count": 42,
     "metadata": {},
     "output_type": "execute_result"
    }
   ],
   "source": [
    "X_train = replace_nulls(X_train)\n",
    "X_test = replace_nulls(X_test)\n",
    "\n",
    "# X_train = X_train.fillna('unknown')\n",
    "# X_test = X_test.fillna('unknown')\n",
    "\n",
    "categorical = X_train.select_dtypes(include=['object'])\n",
    "cat_cols = categorical.columns.tolist()\n",
    "print(\"After replacing nulls in categorical features with 'Unknown' null counts are as follows\")\n",
    "X_train[cat_cols].isna().sum()"
   ]
  },
  {
   "cell_type": "markdown",
   "id": "c9a54f26-070c-47b1-98ff-88ac0a49e7d4",
   "metadata": {},
   "source": [
    "*`one-hot encoding`*"
   ]
  },
  {
   "cell_type": "code",
   "execution_count": 43,
   "id": "81de1259-12de-4682-8d11-8de22c97a4fb",
   "metadata": {},
   "outputs": [],
   "source": [
    "ohe = OneHotEncoder()\n",
    "encodded = ohe.fit_transform(X_train[cat_cols])\n",
    "\n",
    "X_encd = encodded.toarray()\n",
    "X_train = X_train.drop(cat_cols, axis=1)\n",
    "X_train = np.array(X_train)\n",
    "\n",
    "X_train = np.append(X_train, X_encd, axis=1)"
   ]
  },
  {
   "cell_type": "code",
   "execution_count": 44,
   "id": "b27a279c-11c2-471f-80d9-ec552fb450cf",
   "metadata": {},
   "outputs": [
    {
     "data": {
      "text/plain": [
       "(246008, 226)"
      ]
     },
     "execution_count": 44,
     "metadata": {},
     "output_type": "execute_result"
    }
   ],
   "source": [
    "X_train.shape"
   ]
  },
  {
   "cell_type": "code",
   "execution_count": 45,
   "id": "4bd1c9b3-272d-45b1-ab31-7e0ecb1297bb",
   "metadata": {},
   "outputs": [],
   "source": [
    "encodded = ohe.transform(X_test[cat_cols])\n",
    "y_encd = encodded.toarray()\n",
    "X_test = X_test.drop(cat_cols, axis=1)\n",
    "X_test = np.array(X_test)\n",
    "\n",
    "X_test = np.append(X_test, y_encd, axis=1)"
   ]
  },
  {
   "cell_type": "code",
   "execution_count": 46,
   "id": "64689760-b462-4b8f-a40a-e7e3e84e6206",
   "metadata": {},
   "outputs": [
    {
     "data": {
      "text/plain": [
       "(61503, 226)"
      ]
     },
     "execution_count": 46,
     "metadata": {},
     "output_type": "execute_result"
    }
   ],
   "source": [
    "X_test.shape"
   ]
  },
  {
   "cell_type": "markdown",
   "id": "3c2a1eee-2afc-44d2-bda1-db07a10ca61b",
   "metadata": {},
   "source": [
    "#### Checking Correlation between the features and the Target"
   ]
  },
  {
   "cell_type": "code",
   "execution_count": 47,
   "id": "f1405608-faa0-4a6e-81f5-4900fca80dd4",
   "metadata": {},
   "outputs": [
    {
     "data": {
      "image/png": "[encoded data removed]",
      "text/plain": [
       "<Figure size 2000x500 with 1 Axes>"
      ]
     },
     "metadata": {},
     "output_type": "display_data"
    }
   ],
   "source": [
    "# concatenate x_train and y_train\n",
    "combined = np.concatenate((X_train, np.array([y_train]).T), axis=1) # both have same dimensions\n",
    "# convert into a pandas dataframe\n",
    "x_df = pd.DataFrame(combined)\n",
    "# rename lastly added one as TARGET\n",
    "x_df.rename(columns={x_df.columns[-1]:'TARGET'}, inplace=True)\n",
    "# calculating the correlations with TARGET\n",
    "corr = x_df.corrwith(x_df['TARGET'])\n",
    "# take the absolute value\n",
    "corrt = abs(corr)\n",
    "# sorting in ascending order\n",
    "corrt.sort_values(ascending=True)\n",
    "\n",
    "corrt = corrt[corrt[corrt > 0.005].index]\n",
    "corrt = corrt[:-1]\n",
    "\n",
    "# plotting\n",
    "plt.figure(figsize=(20,5))\n",
    "plt.bar(np.arange(corrt.shape[0]), corrt)\n",
    "plt.xlabel('feature')\n",
    "plt.ylabel('correlation')\n",
    "plt.title('Pairwise Correlation of each Feature with Target variable')\n",
    "plt.show()"
   ]
  },
  {
   "cell_type": "markdown",
   "id": "405a182a-e737-44dc-ad7e-89964f8c3d6c",
   "metadata": {},
   "source": [
    "#### Drop non correlated data"
   ]
  },
  {
   "cell_type": "code",
   "execution_count": 48,
   "id": "ef64dd29-9fe4-46ad-a6ca-7cfdba02dd99",
   "metadata": {},
   "outputs": [
    {
     "name": "stdout",
     "output_type": "stream",
     "text": [
      "(246008, 150)\n",
      "(61503, 150)\n",
      "(246008,)\n",
      "(61503,)\n"
     ]
    }
   ],
   "source": [
    "X_train = X_train[:, corrt.index.tolist()]\n",
    "X_test = X_test[:, corrt.index.tolist()]\n",
    "\n",
    "print(X_train.shape)\n",
    "print(X_test.shape)\n",
    "print(y_train.shape)\n",
    "print(y_test.shape)"
   ]
  },
  {
   "cell_type": "markdown",
   "id": "fdd45279",
   "metadata": {},
   "source": [
    "#### Replace missing values"
   ]
  },
  {
   "cell_type": "code",
   "execution_count": 49,
   "id": "b6648eae",
   "metadata": {},
   "outputs": [],
   "source": [
    "imputer = SimpleImputer(strategy='mean')\n",
    "X_train = imputer.fit_transform(X_train)\n",
    "X_test = imputer.transform(X_test)"
   ]
  },
  {
   "cell_type": "markdown",
   "id": "53f09ecf",
   "metadata": {},
   "source": [
    "#### Oversampling"
   ]
  },
  {
   "cell_type": "code",
   "execution_count": 50,
   "id": "8759c125",
   "metadata": {},
   "outputs": [],
   "source": [
    "smote = SMOTE()\n",
    "X_train, y_train = smote.fit_resample(X_train, y_train)"
   ]
  },
  {
   "cell_type": "code",
   "execution_count": 51,
   "id": "3acb8d80",
   "metadata": {},
   "outputs": [
    {
     "data": {
      "image/png": "[encoded data removed]",
      "text/plain": [
       "<Figure size 640x480 with 1 Axes>"
      ]
     },
     "metadata": {},
     "output_type": "display_data"
    }
   ],
   "source": [
    "plt.hist(y_train, bins=[-0.5, 0.5, 1.5], edgecolor='black', align='mid')\n",
    "plt.xticks([0, 1])\n",
    "plt.xlabel('Class')\n",
    "plt.ylabel('Frequency')\n",
    "plt.show()"
   ]
  },
  {
   "cell_type": "markdown",
   "id": "4d9e4b54-789f-43c3-b92f-ffebf807ee03",
   "metadata": {},
   "source": [
    "#### Model training with XGBoost with one-hot-encodded features"
   ]
  },
  {
   "cell_type": "code",
   "execution_count": 52,
   "id": "1476b6d0-4121-4979-844f-f18e73fc75b7",
   "metadata": {},
   "outputs": [
    {
     "name": "stdout",
     "output_type": "stream",
     "text": [
      "[[56326   212]\n",
      " [ 4773   192]]\n",
      "              precision    recall  f1-score   support\n",
      "\n",
      "           0       0.92      1.00      0.96     56538\n",
      "           1       0.48      0.04      0.07      4965\n",
      "\n",
      "    accuracy                           0.92     61503\n",
      "   macro avg       0.70      0.52      0.51     61503\n",
      "weighted avg       0.89      0.92      0.89     61503\n",
      "\n"
     ]
    }
   ],
   "source": [
    "import xgboost as xgb\n",
    "from sklearn.metrics import confusion_matrix, classification_report\n",
    "from sklearn.preprocessing import StandardScaler\n",
    "\n",
    "# Prepare data\n",
    "X_train_selected = np.array(X_train)\n",
    "X_test_selected = np.array(X_test)\n",
    "\n",
    "stdscl = StandardScaler()\n",
    "X_train_selected = stdscl.fit_transform(X_train_selected)\n",
    "X_test_selected = stdscl.transform(X_test_selected)\n",
    "\n",
    "# Train XGBoost classifier\n",
    "model = xgb.XGBClassifier()\n",
    "model.fit(X_train_selected, y_train)\n",
    "\n",
    "# Predict and evaluate\n",
    "y_pred = model.predict(X_test_selected)\n",
    "print(confusion_matrix(y_test, y_pred))\n",
    "print(classification_report(y_test, y_pred))"
   ]
  },
  {
   "cell_type": "code",
   "execution_count": 54,
   "id": "c08021ca-82c7-4bf3-9e36-e1e0fc0fe41f",
   "metadata": {},
   "outputs": [
    {
     "data": {
      "image/png": "[encoded data removed]",
      "text/plain": [
       "<Figure size 2000x1000 with 1 Axes>"
      ]
     },
     "metadata": {},
     "output_type": "display_data"
    }
   ],
   "source": [
    "# feature_names = df_correlation_removed.columns\n",
    "# Get feature importances\n",
    "importances = model.feature_importances_\n",
    "# Sort the feature importances in descending order\n",
    "indices = np.argsort(importances)[::-1]\n",
    "# Plot the feature importances\n",
    "plt.figure(figsize=(20, 10))\n",
    "plt.title(\"Feature Importances After one-hot-encoding\")\n",
    "plt.bar(range(X_train.shape[1]), importances[indices], align='center')\n",
    "plt.xticks(range(X_train.shape[1]), rotation=90)\n",
    "plt.xlim([-1, X_train.shape[1]])\n",
    "plt.show()"
   ]
  }
 ],
 "metadata": {
  "kernelspec": {
   "display_name": "Python 3 (ipykernel)",
   "language": "python",
   "name": "python3"
  },
  "language_info": {
   "codemirror_mode": {
    "name": "ipython",
    "version": 3
   },
   "file_extension": ".py",
   "mimetype": "text/x-python",
   "name": "python",
   "nbconvert_exporter": "python",
   "pygments_lexer": "ipython3",
   "version": "3.12.4"
  }
 },
 "nbformat": 4,
 "nbformat_minor": 5
}
