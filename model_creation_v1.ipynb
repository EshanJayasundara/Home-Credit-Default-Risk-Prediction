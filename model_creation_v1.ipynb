{
 "cells": [
  {
   "cell_type": "markdown",
   "id": "ef9cb918-a8c0-4423-a5b3-c7956b8eaeaa",
   "metadata": {},
   "source": [
    "#### importing necessary packages"
   ]
  },
  {
   "cell_type": "code",
   "execution_count": 1,
   "id": "b14cf66c-c5db-4970-99eb-75da684e0376",
   "metadata": {},
   "outputs": [],
   "source": [
    "import pandas as pd\n",
    "from ydata_profiling import ProfileReport\n",
    "import matplotlib.pyplot as plt\n",
    "import numpy as np\n",
    "import seaborn as sns\n",
    "from sklearn.model_selection import train_test_split\n",
    "from sklearn.preprocessing import OneHotEncoder\n",
    "from imblearn.over_sampling import SMOTE\n",
    "from sklearn.impute import SimpleImputer\n",
    "from sklearn.impute import KNNImputer\n",
    "from sklearn.preprocessing import PowerTransformer"
   ]
  },
  {
   "cell_type": "markdown",
   "id": "b9f6a551-b2c8-4991-a5a4-e440dd3b1146",
   "metadata": {},
   "source": [
    "#### reading the csv"
   ]
  },
  {
   "cell_type": "code",
   "execution_count": 2,
   "id": "5bc6169e-e372-4e8c-91ed-9c265f9216bc",
   "metadata": {},
   "outputs": [],
   "source": [
    "df = pd.read_csv(\"data/application_train.csv\")"
   ]
  },
  {
   "cell_type": "markdown",
   "id": "9b25be11-daf1-434e-a21f-b82b65797d42",
   "metadata": {},
   "source": [
    "#### rendering the profile report"
   ]
  },
  {
   "cell_type": "code",
   "execution_count": 3,
   "id": "7116d5ce-60a0-42f8-b609-b348b4a4f1fc",
   "metadata": {},
   "outputs": [],
   "source": [
    "# profile = ProfileReport(df, title=\"Profiling Report\", minimal=True)"
   ]
  },
  {
   "cell_type": "code",
   "execution_count": 4,
   "id": "b1b4d1db-e151-42b1-8537-47521af4ae86",
   "metadata": {},
   "outputs": [],
   "source": [
    "# profile.to_file('profiling_report.html')"
   ]
  },
  {
   "cell_type": "markdown",
   "id": "805e5681-5ea0-4603-88d8-f9427d14a775",
   "metadata": {},
   "source": [
    "## Training with numerical features"
   ]
  },
  {
   "cell_type": "markdown",
   "id": "0acd08bd-6016-4771-8c83-1495c90d4482",
   "metadata": {},
   "source": [
    "#### sampling data"
   ]
  },
  {
   "cell_type": "code",
   "execution_count": 5,
   "id": "515cece6-f2d9-4e00-9b99-16b1a3b17ad9",
   "metadata": {},
   "outputs": [
    {
     "name": "stdout",
     "output_type": "stream",
     "text": [
      "(246008, 121)\n",
      "(61503, 121)\n",
      "(246008,)\n",
      "(61503,)\n"
     ]
    }
   ],
   "source": [
    "X = df.drop('TARGET', axis=1)\n",
    "y = df['TARGET']\n",
    "X_train, X_test, y_train, y_test = train_test_split(X, y, test_size=0.2, stratify=y, random_state=42)\n",
    "print(X_train.shape)\n",
    "print(X_test.shape)\n",
    "print(y_train.shape)\n",
    "print(y_test.shape)"
   ]
  },
  {
   "cell_type": "code",
   "execution_count": 6,
   "id": "7401e793-b360-4112-8119-36c5a7229318",
   "metadata": {},
   "outputs": [
    {
     "data": {
      "image/png": "[encoded data removed]",
      "text/plain": [
       "<Figure size 640x480 with 1 Axes>"
      ]
     },
     "metadata": {},
     "output_type": "display_data"
    }
   ],
   "source": [
    "plt.hist(y_train, bins=[-0.5, 0.5, 1.5], edgecolor='black', align='mid')\n",
    "plt.xticks([0, 1])\n",
    "plt.xlabel('Class')\n",
    "plt.ylabel('Frequency')\n",
    "plt.show()"
   ]
  },
  {
   "cell_type": "code",
   "execution_count": 7,
   "id": "7893d7c5-15bc-44a9-9340-f00819192096",
   "metadata": {},
   "outputs": [
    {
     "data": {
      "image/png": "[encoded data removed]",
      "text/plain": [
       "<Figure size 640x480 with 1 Axes>"
      ]
     },
     "metadata": {},
     "output_type": "display_data"
    }
   ],
   "source": [
    "plt.hist(y_test, bins=[-0.5, 0.5, 1.5], edgecolor='black', align='mid')\n",
    "plt.xticks([0, 1])\n",
    "plt.xlabel('Class')\n",
    "plt.ylabel('Frequency')\n",
    "plt.show()"
   ]
  },
  {
   "cell_type": "markdown",
   "id": "869c038e-e80c-4a24-812f-8babadc60953",
   "metadata": {},
   "source": [
    "#### Drop non corelated data"
   ]
  },
  {
   "cell_type": "code",
   "execution_count": 8,
   "id": "23447e04-072e-4c67-add0-55f076cd3761",
   "metadata": {},
   "outputs": [
    {
     "data": {
      "text/html": [
       "<div>\n",
       "<style scoped>\n",
       "    .dataframe tbody tr th:only-of-type {\n",
       "        vertical-align: middle;\n",
       "    }\n",
       "\n",
       "    .dataframe tbody tr th {\n",
       "        vertical-align: top;\n",
       "    }\n",
       "\n",
       "    .dataframe thead th {\n",
       "        text-align: right;\n",
       "    }\n",
       "</style>\n",
       "<table border=\"1\" class=\"dataframe\">\n",
       "  <thead>\n",
       "    <tr style=\"text-align: right;\">\n",
       "      <th></th>\n",
       "      <th>SK_ID_CURR</th>\n",
       "      <th>CNT_CHILDREN</th>\n",
       "      <th>AMT_INCOME_TOTAL</th>\n",
       "      <th>AMT_CREDIT</th>\n",
       "      <th>AMT_ANNUITY</th>\n",
       "      <th>AMT_GOODS_PRICE</th>\n",
       "      <th>REGION_POPULATION_RELATIVE</th>\n",
       "      <th>DAYS_BIRTH</th>\n",
       "      <th>DAYS_EMPLOYED</th>\n",
       "      <th>DAYS_REGISTRATION</th>\n",
       "      <th>...</th>\n",
       "      <th>FLAG_DOCUMENT_19</th>\n",
       "      <th>FLAG_DOCUMENT_20</th>\n",
       "      <th>FLAG_DOCUMENT_21</th>\n",
       "      <th>AMT_REQ_CREDIT_BUREAU_HOUR</th>\n",
       "      <th>AMT_REQ_CREDIT_BUREAU_DAY</th>\n",
       "      <th>AMT_REQ_CREDIT_BUREAU_WEEK</th>\n",
       "      <th>AMT_REQ_CREDIT_BUREAU_MON</th>\n",
       "      <th>AMT_REQ_CREDIT_BUREAU_QRT</th>\n",
       "      <th>AMT_REQ_CREDIT_BUREAU_YEAR</th>\n",
       "      <th>TARGET</th>\n",
       "    </tr>\n",
       "  </thead>\n",
       "  <tbody>\n",
       "    <tr>\n",
       "      <th>SK_ID_CURR</th>\n",
       "      <td>1.000000</td>\n",
       "      <td>-0.001401</td>\n",
       "      <td>-0.002337</td>\n",
       "      <td>0.000736</td>\n",
       "      <td>0.001073</td>\n",
       "      <td>0.001140</td>\n",
       "      <td>-0.000801</td>\n",
       "      <td>-0.002655</td>\n",
       "      <td>0.001884</td>\n",
       "      <td>-0.000810</td>\n",
       "      <td>...</td>\n",
       "      <td>-0.000251</td>\n",
       "      <td>0.001874</td>\n",
       "      <td>0.001636</td>\n",
       "      <td>-0.003241</td>\n",
       "      <td>-0.004284</td>\n",
       "      <td>0.002309</td>\n",
       "      <td>0.000763</td>\n",
       "      <td>0.000773</td>\n",
       "      <td>0.005375</td>\n",
       "      <td>-0.002204</td>\n",
       "    </tr>\n",
       "    <tr>\n",
       "      <th>CNT_CHILDREN</th>\n",
       "      <td>-0.001401</td>\n",
       "      <td>1.000000</td>\n",
       "      <td>0.012004</td>\n",
       "      <td>0.002401</td>\n",
       "      <td>0.021200</td>\n",
       "      <td>-0.001731</td>\n",
       "      <td>-0.026412</td>\n",
       "      <td>0.330948</td>\n",
       "      <td>-0.240020</td>\n",
       "      <td>0.184339</td>\n",
       "      <td>...</td>\n",
       "      <td>-0.000106</td>\n",
       "      <td>0.002106</td>\n",
       "      <td>-0.002175</td>\n",
       "      <td>-0.000058</td>\n",
       "      <td>-0.000891</td>\n",
       "      <td>-0.002256</td>\n",
       "      <td>-0.010851</td>\n",
       "      <td>-0.010936</td>\n",
       "      <td>-0.041693</td>\n",
       "      <td>0.020347</td>\n",
       "    </tr>\n",
       "    <tr>\n",
       "      <th>AMT_INCOME_TOTAL</th>\n",
       "      <td>-0.002337</td>\n",
       "      <td>0.012004</td>\n",
       "      <td>1.000000</td>\n",
       "      <td>0.143809</td>\n",
       "      <td>0.174736</td>\n",
       "      <td>0.146198</td>\n",
       "      <td>0.068077</td>\n",
       "      <td>0.024687</td>\n",
       "      <td>-0.058388</td>\n",
       "      <td>0.025406</td>\n",
       "      <td>...</td>\n",
       "      <td>0.001822</td>\n",
       "      <td>0.000492</td>\n",
       "      <td>-0.000667</td>\n",
       "      <td>0.000688</td>\n",
       "      <td>0.003252</td>\n",
       "      <td>0.002222</td>\n",
       "      <td>0.022829</td>\n",
       "      <td>0.004275</td>\n",
       "      <td>0.010373</td>\n",
       "      <td>-0.002727</td>\n",
       "    </tr>\n",
       "    <tr>\n",
       "      <th>AMT_CREDIT</th>\n",
       "      <td>0.000736</td>\n",
       "      <td>0.002401</td>\n",
       "      <td>0.143809</td>\n",
       "      <td>1.000000</td>\n",
       "      <td>0.770163</td>\n",
       "      <td>0.987000</td>\n",
       "      <td>0.101601</td>\n",
       "      <td>-0.057428</td>\n",
       "      <td>-0.065029</td>\n",
       "      <td>0.009980</td>\n",
       "      <td>...</td>\n",
       "      <td>0.022173</td>\n",
       "      <td>0.031248</td>\n",
       "      <td>-0.016321</td>\n",
       "      <td>-0.003184</td>\n",
       "      <td>0.004864</td>\n",
       "      <td>-0.001314</td>\n",
       "      <td>0.053811</td>\n",
       "      <td>0.019123</td>\n",
       "      <td>-0.048593</td>\n",
       "      <td>-0.030803</td>\n",
       "    </tr>\n",
       "    <tr>\n",
       "      <th>AMT_ANNUITY</th>\n",
       "      <td>0.001073</td>\n",
       "      <td>0.021200</td>\n",
       "      <td>0.174736</td>\n",
       "      <td>0.770163</td>\n",
       "      <td>1.000000</td>\n",
       "      <td>0.775310</td>\n",
       "      <td>0.119503</td>\n",
       "      <td>0.007327</td>\n",
       "      <td>-0.102090</td>\n",
       "      <td>0.039208</td>\n",
       "      <td>...</td>\n",
       "      <td>0.005327</td>\n",
       "      <td>0.012070</td>\n",
       "      <td>-0.019289</td>\n",
       "      <td>0.003390</td>\n",
       "      <td>0.003686</td>\n",
       "      <td>0.015098</td>\n",
       "      <td>0.039085</td>\n",
       "      <td>0.011702</td>\n",
       "      <td>-0.011161</td>\n",
       "      <td>-0.012734</td>\n",
       "    </tr>\n",
       "    <tr>\n",
       "      <th>...</th>\n",
       "      <td>...</td>\n",
       "      <td>...</td>\n",
       "      <td>...</td>\n",
       "      <td>...</td>\n",
       "      <td>...</td>\n",
       "      <td>...</td>\n",
       "      <td>...</td>\n",
       "      <td>...</td>\n",
       "      <td>...</td>\n",
       "      <td>...</td>\n",
       "      <td>...</td>\n",
       "      <td>...</td>\n",
       "      <td>...</td>\n",
       "      <td>...</td>\n",
       "      <td>...</td>\n",
       "      <td>...</td>\n",
       "      <td>...</td>\n",
       "      <td>...</td>\n",
       "      <td>...</td>\n",
       "      <td>...</td>\n",
       "      <td>...</td>\n",
       "    </tr>\n",
       "    <tr>\n",
       "      <th>AMT_REQ_CREDIT_BUREAU_WEEK</th>\n",
       "      <td>0.002309</td>\n",
       "      <td>-0.002256</td>\n",
       "      <td>0.002222</td>\n",
       "      <td>-0.001314</td>\n",
       "      <td>0.015098</td>\n",
       "      <td>-0.000845</td>\n",
       "      <td>-0.000633</td>\n",
       "      <td>-0.001557</td>\n",
       "      <td>0.002347</td>\n",
       "      <td>0.000547</td>\n",
       "      <td>...</td>\n",
       "      <td>-0.001527</td>\n",
       "      <td>-0.002108</td>\n",
       "      <td>-0.000296</td>\n",
       "      <td>0.002259</td>\n",
       "      <td>0.221462</td>\n",
       "      <td>1.000000</td>\n",
       "      <td>-0.013329</td>\n",
       "      <td>-0.019472</td>\n",
       "      <td>0.020928</td>\n",
       "      <td>0.001596</td>\n",
       "    </tr>\n",
       "    <tr>\n",
       "      <th>AMT_REQ_CREDIT_BUREAU_MON</th>\n",
       "      <td>0.000763</td>\n",
       "      <td>-0.010851</td>\n",
       "      <td>0.022829</td>\n",
       "      <td>0.053811</td>\n",
       "      <td>0.039085</td>\n",
       "      <td>0.056136</td>\n",
       "      <td>0.078760</td>\n",
       "      <td>0.001955</td>\n",
       "      <td>-0.034954</td>\n",
       "      <td>-0.010066</td>\n",
       "      <td>...</td>\n",
       "      <td>-0.002744</td>\n",
       "      <td>0.001096</td>\n",
       "      <td>-0.003623</td>\n",
       "      <td>0.000285</td>\n",
       "      <td>-0.004294</td>\n",
       "      <td>-0.013329</td>\n",
       "      <td>1.000000</td>\n",
       "      <td>-0.012063</td>\n",
       "      <td>-0.003586</td>\n",
       "      <td>-0.011775</td>\n",
       "    </tr>\n",
       "    <tr>\n",
       "      <th>AMT_REQ_CREDIT_BUREAU_QRT</th>\n",
       "      <td>0.000773</td>\n",
       "      <td>-0.010936</td>\n",
       "      <td>0.004275</td>\n",
       "      <td>0.019123</td>\n",
       "      <td>0.011702</td>\n",
       "      <td>0.019359</td>\n",
       "      <td>-0.004139</td>\n",
       "      <td>-0.017180</td>\n",
       "      <td>0.021062</td>\n",
       "      <td>-0.001535</td>\n",
       "      <td>...</td>\n",
       "      <td>-0.001268</td>\n",
       "      <td>-0.000796</td>\n",
       "      <td>-0.002271</td>\n",
       "      <td>-0.002910</td>\n",
       "      <td>-0.005235</td>\n",
       "      <td>-0.019472</td>\n",
       "      <td>-0.012063</td>\n",
       "      <td>1.000000</td>\n",
       "      <td>0.099835</td>\n",
       "      <td>-0.003404</td>\n",
       "    </tr>\n",
       "    <tr>\n",
       "      <th>AMT_REQ_CREDIT_BUREAU_YEAR</th>\n",
       "      <td>0.005375</td>\n",
       "      <td>-0.041693</td>\n",
       "      <td>0.010373</td>\n",
       "      <td>-0.048593</td>\n",
       "      <td>-0.011161</td>\n",
       "      <td>-0.051085</td>\n",
       "      <td>-0.001712</td>\n",
       "      <td>-0.070118</td>\n",
       "      <td>0.049851</td>\n",
       "      <td>-0.025470</td>\n",
       "      <td>...</td>\n",
       "      <td>-0.008525</td>\n",
       "      <td>-0.013124</td>\n",
       "      <td>-0.006239</td>\n",
       "      <td>-0.004211</td>\n",
       "      <td>-0.004194</td>\n",
       "      <td>0.020928</td>\n",
       "      <td>-0.003586</td>\n",
       "      <td>0.099835</td>\n",
       "      <td>1.000000</td>\n",
       "      <td>0.018984</td>\n",
       "    </tr>\n",
       "    <tr>\n",
       "      <th>TARGET</th>\n",
       "      <td>-0.002204</td>\n",
       "      <td>0.020347</td>\n",
       "      <td>-0.002727</td>\n",
       "      <td>-0.030803</td>\n",
       "      <td>-0.012734</td>\n",
       "      <td>-0.039895</td>\n",
       "      <td>-0.037166</td>\n",
       "      <td>0.079467</td>\n",
       "      <td>-0.045355</td>\n",
       "      <td>0.042127</td>\n",
       "      <td>...</td>\n",
       "      <td>-0.001275</td>\n",
       "      <td>0.001323</td>\n",
       "      <td>0.004682</td>\n",
       "      <td>0.001215</td>\n",
       "      <td>0.003302</td>\n",
       "      <td>0.001596</td>\n",
       "      <td>-0.011775</td>\n",
       "      <td>-0.003404</td>\n",
       "      <td>0.018984</td>\n",
       "      <td>1.000000</td>\n",
       "    </tr>\n",
       "  </tbody>\n",
       "</table>\n",
       "<p>106 rows × 106 columns</p>\n",
       "</div>"
      ],
      "text/plain": [
       "                            SK_ID_CURR  CNT_CHILDREN  AMT_INCOME_TOTAL  \\\n",
       "SK_ID_CURR                    1.000000     -0.001401         -0.002337   \n",
       "CNT_CHILDREN                 -0.001401      1.000000          0.012004   \n",
       "AMT_INCOME_TOTAL             -0.002337      0.012004          1.000000   \n",
       "AMT_CREDIT                    0.000736      0.002401          0.143809   \n",
       "AMT_ANNUITY                   0.001073      0.021200          0.174736   \n",
       "...                                ...           ...               ...   \n",
       "AMT_REQ_CREDIT_BUREAU_WEEK    0.002309     -0.002256          0.002222   \n",
       "AMT_REQ_CREDIT_BUREAU_MON     0.000763     -0.010851          0.022829   \n",
       "AMT_REQ_CREDIT_BUREAU_QRT     0.000773     -0.010936          0.004275   \n",
       "AMT_REQ_CREDIT_BUREAU_YEAR    0.005375     -0.041693          0.010373   \n",
       "TARGET                       -0.002204      0.020347         -0.002727   \n",
       "\n",
       "                            AMT_CREDIT  AMT_ANNUITY  AMT_GOODS_PRICE  \\\n",
       "SK_ID_CURR                    0.000736     0.001073         0.001140   \n",
       "CNT_CHILDREN                  0.002401     0.021200        -0.001731   \n",
       "AMT_INCOME_TOTAL              0.143809     0.174736         0.146198   \n",
       "AMT_CREDIT                    1.000000     0.770163         0.987000   \n",
       "AMT_ANNUITY                   0.770163     1.000000         0.775310   \n",
       "...                                ...          ...              ...   \n",
       "AMT_REQ_CREDIT_BUREAU_WEEK   -0.001314     0.015098        -0.000845   \n",
       "AMT_REQ_CREDIT_BUREAU_MON     0.053811     0.039085         0.056136   \n",
       "AMT_REQ_CREDIT_BUREAU_QRT     0.019123     0.011702         0.019359   \n",
       "AMT_REQ_CREDIT_BUREAU_YEAR   -0.048593    -0.011161        -0.051085   \n",
       "TARGET                       -0.030803    -0.012734        -0.039895   \n",
       "\n",
       "                            REGION_POPULATION_RELATIVE  DAYS_BIRTH  \\\n",
       "SK_ID_CURR                                   -0.000801   -0.002655   \n",
       "CNT_CHILDREN                                 -0.026412    0.330948   \n",
       "AMT_INCOME_TOTAL                              0.068077    0.024687   \n",
       "AMT_CREDIT                                    0.101601   -0.057428   \n",
       "AMT_ANNUITY                                   0.119503    0.007327   \n",
       "...                                                ...         ...   \n",
       "AMT_REQ_CREDIT_BUREAU_WEEK                   -0.000633   -0.001557   \n",
       "AMT_REQ_CREDIT_BUREAU_MON                     0.078760    0.001955   \n",
       "AMT_REQ_CREDIT_BUREAU_QRT                    -0.004139   -0.017180   \n",
       "AMT_REQ_CREDIT_BUREAU_YEAR                   -0.001712   -0.070118   \n",
       "TARGET                                       -0.037166    0.079467   \n",
       "\n",
       "                            DAYS_EMPLOYED  DAYS_REGISTRATION  ...  \\\n",
       "SK_ID_CURR                       0.001884          -0.000810  ...   \n",
       "CNT_CHILDREN                    -0.240020           0.184339  ...   \n",
       "AMT_INCOME_TOTAL                -0.058388           0.025406  ...   \n",
       "AMT_CREDIT                      -0.065029           0.009980  ...   \n",
       "AMT_ANNUITY                     -0.102090           0.039208  ...   \n",
       "...                                   ...                ...  ...   \n",
       "AMT_REQ_CREDIT_BUREAU_WEEK       0.002347           0.000547  ...   \n",
       "AMT_REQ_CREDIT_BUREAU_MON       -0.034954          -0.010066  ...   \n",
       "AMT_REQ_CREDIT_BUREAU_QRT        0.021062          -0.001535  ...   \n",
       "AMT_REQ_CREDIT_BUREAU_YEAR       0.049851          -0.025470  ...   \n",
       "TARGET                          -0.045355           0.042127  ...   \n",
       "\n",
       "                            FLAG_DOCUMENT_19  FLAG_DOCUMENT_20  \\\n",
       "SK_ID_CURR                         -0.000251          0.001874   \n",
       "CNT_CHILDREN                       -0.000106          0.002106   \n",
       "AMT_INCOME_TOTAL                    0.001822          0.000492   \n",
       "AMT_CREDIT                          0.022173          0.031248   \n",
       "AMT_ANNUITY                         0.005327          0.012070   \n",
       "...                                      ...               ...   \n",
       "AMT_REQ_CREDIT_BUREAU_WEEK         -0.001527         -0.002108   \n",
       "AMT_REQ_CREDIT_BUREAU_MON          -0.002744          0.001096   \n",
       "AMT_REQ_CREDIT_BUREAU_QRT          -0.001268         -0.000796   \n",
       "AMT_REQ_CREDIT_BUREAU_YEAR         -0.008525         -0.013124   \n",
       "TARGET                             -0.001275          0.001323   \n",
       "\n",
       "                            FLAG_DOCUMENT_21  AMT_REQ_CREDIT_BUREAU_HOUR  \\\n",
       "SK_ID_CURR                          0.001636                   -0.003241   \n",
       "CNT_CHILDREN                       -0.002175                   -0.000058   \n",
       "AMT_INCOME_TOTAL                   -0.000667                    0.000688   \n",
       "AMT_CREDIT                         -0.016321                   -0.003184   \n",
       "AMT_ANNUITY                        -0.019289                    0.003390   \n",
       "...                                      ...                         ...   \n",
       "AMT_REQ_CREDIT_BUREAU_WEEK         -0.000296                    0.002259   \n",
       "AMT_REQ_CREDIT_BUREAU_MON          -0.003623                    0.000285   \n",
       "AMT_REQ_CREDIT_BUREAU_QRT          -0.002271                   -0.002910   \n",
       "AMT_REQ_CREDIT_BUREAU_YEAR         -0.006239                   -0.004211   \n",
       "TARGET                              0.004682                    0.001215   \n",
       "\n",
       "                            AMT_REQ_CREDIT_BUREAU_DAY  \\\n",
       "SK_ID_CURR                                  -0.004284   \n",
       "CNT_CHILDREN                                -0.000891   \n",
       "AMT_INCOME_TOTAL                             0.003252   \n",
       "AMT_CREDIT                                   0.004864   \n",
       "AMT_ANNUITY                                  0.003686   \n",
       "...                                               ...   \n",
       "AMT_REQ_CREDIT_BUREAU_WEEK                   0.221462   \n",
       "AMT_REQ_CREDIT_BUREAU_MON                   -0.004294   \n",
       "AMT_REQ_CREDIT_BUREAU_QRT                   -0.005235   \n",
       "AMT_REQ_CREDIT_BUREAU_YEAR                  -0.004194   \n",
       "TARGET                                       0.003302   \n",
       "\n",
       "                            AMT_REQ_CREDIT_BUREAU_WEEK  \\\n",
       "SK_ID_CURR                                    0.002309   \n",
       "CNT_CHILDREN                                 -0.002256   \n",
       "AMT_INCOME_TOTAL                              0.002222   \n",
       "AMT_CREDIT                                   -0.001314   \n",
       "AMT_ANNUITY                                   0.015098   \n",
       "...                                                ...   \n",
       "AMT_REQ_CREDIT_BUREAU_WEEK                    1.000000   \n",
       "AMT_REQ_CREDIT_BUREAU_MON                    -0.013329   \n",
       "AMT_REQ_CREDIT_BUREAU_QRT                    -0.019472   \n",
       "AMT_REQ_CREDIT_BUREAU_YEAR                    0.020928   \n",
       "TARGET                                        0.001596   \n",
       "\n",
       "                            AMT_REQ_CREDIT_BUREAU_MON  \\\n",
       "SK_ID_CURR                                   0.000763   \n",
       "CNT_CHILDREN                                -0.010851   \n",
       "AMT_INCOME_TOTAL                             0.022829   \n",
       "AMT_CREDIT                                   0.053811   \n",
       "AMT_ANNUITY                                  0.039085   \n",
       "...                                               ...   \n",
       "AMT_REQ_CREDIT_BUREAU_WEEK                  -0.013329   \n",
       "AMT_REQ_CREDIT_BUREAU_MON                    1.000000   \n",
       "AMT_REQ_CREDIT_BUREAU_QRT                   -0.012063   \n",
       "AMT_REQ_CREDIT_BUREAU_YEAR                  -0.003586   \n",
       "TARGET                                      -0.011775   \n",
       "\n",
       "                            AMT_REQ_CREDIT_BUREAU_QRT  \\\n",
       "SK_ID_CURR                                   0.000773   \n",
       "CNT_CHILDREN                                -0.010936   \n",
       "AMT_INCOME_TOTAL                             0.004275   \n",
       "AMT_CREDIT                                   0.019123   \n",
       "AMT_ANNUITY                                  0.011702   \n",
       "...                                               ...   \n",
       "AMT_REQ_CREDIT_BUREAU_WEEK                  -0.019472   \n",
       "AMT_REQ_CREDIT_BUREAU_MON                   -0.012063   \n",
       "AMT_REQ_CREDIT_BUREAU_QRT                    1.000000   \n",
       "AMT_REQ_CREDIT_BUREAU_YEAR                   0.099835   \n",
       "TARGET                                      -0.003404   \n",
       "\n",
       "                            AMT_REQ_CREDIT_BUREAU_YEAR    TARGET  \n",
       "SK_ID_CURR                                    0.005375 -0.002204  \n",
       "CNT_CHILDREN                                 -0.041693  0.020347  \n",
       "AMT_INCOME_TOTAL                              0.010373 -0.002727  \n",
       "AMT_CREDIT                                   -0.048593 -0.030803  \n",
       "AMT_ANNUITY                                  -0.011161 -0.012734  \n",
       "...                                                ...       ...  \n",
       "AMT_REQ_CREDIT_BUREAU_WEEK                    0.020928  0.001596  \n",
       "AMT_REQ_CREDIT_BUREAU_MON                    -0.003586 -0.011775  \n",
       "AMT_REQ_CREDIT_BUREAU_QRT                     0.099835 -0.003404  \n",
       "AMT_REQ_CREDIT_BUREAU_YEAR                    1.000000  0.018984  \n",
       "TARGET                                        0.018984  1.000000  \n",
       "\n",
       "[106 rows x 106 columns]"
      ]
     },
     "execution_count": 8,
     "metadata": {},
     "output_type": "execute_result"
    }
   ],
   "source": [
    "X_train['TARGET'] = y_train\n",
    "df_numerical_train = X_train.select_dtypes(include=['float64', 'int64'])\n",
    "df_numerical_test = X_test.select_dtypes(include=['float64', 'int64'])\n",
    "corr = df_numerical_train.corr()\n",
    "corr"
   ]
  },
  {
   "cell_type": "code",
   "execution_count": 9,
   "id": "1cca8037-c273-4139-b886-77e4a8286544",
   "metadata": {},
   "outputs": [
    {
     "data": {
      "text/plain": [
       "NONLIVINGAPARTMENTS_MEDI      0.000027\n",
       "FLAG_DOCUMENT_5               0.000385\n",
       "NONLIVINGAPARTMENTS_AVG       0.000410\n",
       "FLAG_EMAIL                    0.000563\n",
       "FLAG_MOBIL                    0.000597\n",
       "FLAG_DOCUMENT_12              0.000597\n",
       "FLAG_DOCUMENT_7               0.000779\n",
       "FLAG_DOCUMENT_10              0.001195\n",
       "AMT_REQ_CREDIT_BUREAU_HOUR    0.001215\n",
       "FLAG_DOCUMENT_19              0.001275\n",
       "Name: TARGET, dtype: float64"
      ]
     },
     "execution_count": 9,
     "metadata": {},
     "output_type": "execute_result"
    }
   ],
   "source": [
    "corrt = abs(corr['TARGET'])\n",
    "corrt.sort_values(ascending=True).head(10)"
   ]
  },
  {
   "cell_type": "markdown",
   "id": "d3314c34-be74-4f17-95e6-89c65adbf5d2",
   "metadata": {},
   "source": [
    "drop EXT_SOURCE_1, EXT_SOURCE_2, EXT_SOURCE_3"
   ]
  },
  {
   "cell_type": "code",
   "execution_count": 10,
   "id": "70c72347-8692-48b5-81c7-86e3add0bc2d",
   "metadata": {},
   "outputs": [],
   "source": [
    "# X_train = df_numerical_train.drop(['EXT_SOURCE_3', 'EXT_SOURCE_2', 'EXT_SOURCE_1', 'TARGET'], axis=1)\n",
    "# X_test = df_numerical_test.drop(['EXT_SOURCE_3', 'EXT_SOURCE_2', 'EXT_SOURCE_1'], axis=1)\n",
    "\n",
    "X_train = df_numerical_train.drop(['FLAG_DOCUMENT_5', 'NONLIVINGAPARTMENTS_AVG', 'FLAG_EMAIL', 'FLAG_DOCUMENT_12', 'FLAG_DOCUMENT_7', 'TARGET'], axis=1)\n",
    "X_test = df_numerical_test.drop(['FLAG_DOCUMENT_5', 'NONLIVINGAPARTMENTS_AVG', 'FLAG_EMAIL', 'FLAG_DOCUMENT_12', 'FLAG_DOCUMENT_7'], axis=1)"
   ]
  },
  {
   "cell_type": "markdown",
   "id": "54286054-c73c-4d79-bb36-03a3cda2984b",
   "metadata": {},
   "source": [
    "#### model training with XGBoost only using numerical data"
   ]
  },
  {
   "cell_type": "code",
   "execution_count": 11,
   "id": "240a8481-34b0-400d-900f-4b432edcee22",
   "metadata": {},
   "outputs": [
    {
     "name": "stdout",
     "output_type": "stream",
     "text": [
      "[[56374   164]\n",
      " [ 4815   150]]\n"
     ]
    }
   ],
   "source": [
    "import xgboost as xgb\n",
    "from sklearn.metrics import confusion_matrix\n",
    "from sklearn.preprocessing import StandardScaler\n",
    "\n",
    "# Prepare data\n",
    "X_train_selected = np.array(X_train)\n",
    "X_test_selected = np.array(X_test)\n",
    "\n",
    "stdscl = StandardScaler()\n",
    "X_train_selected = stdscl.fit_transform(X_train_selected)\n",
    "X_test_selected = stdscl.transform(X_test_selected)\n",
    "\n",
    "# Train XGBoost classifier\n",
    "model = xgb.XGBClassifier()\n",
    "model.fit(X_train_selected, y_train)\n",
    "\n",
    "# Predict and evaluate\n",
    "y_pred = model.predict(X_test_selected)\n",
    "print(confusion_matrix(y_test, y_pred))"
   ]
  },
  {
   "cell_type": "markdown",
   "id": "22ec4557-9c60-4e64-991d-28a2115a1e75",
   "metadata": {},
   "source": [
    "## Training with categorical + numerical features"
   ]
  },
  {
   "cell_type": "markdown",
   "id": "d6fb856b-3750-48a1-bc3a-ee60d55b7263",
   "metadata": {},
   "source": [
    "#### Train/Test Split"
   ]
  },
  {
   "cell_type": "code",
   "execution_count": 12,
   "id": "e6f57323-8c12-4067-96ed-b7ca4ba2f489",
   "metadata": {},
   "outputs": [
    {
     "name": "stdout",
     "output_type": "stream",
     "text": [
      "(246008, 121)\n",
      "(61503, 121)\n",
      "(246008,)\n",
      "(61503,)\n"
     ]
    }
   ],
   "source": [
    "X = df.drop('TARGET', axis=1)\n",
    "y = df['TARGET']\n",
    "X_train, X_test, y_train, y_test = train_test_split(X, y, test_size=0.2, stratify=y, random_state=42)\n",
    "\n",
    "print(X_train.shape)\n",
    "print(X_test.shape)\n",
    "print(y_train.shape)\n",
    "print(y_test.shape)"
   ]
  },
  {
   "cell_type": "markdown",
   "id": "e96746d6-280b-4ca3-8922-7c5370169a95",
   "metadata": {},
   "source": [
    "#### Encoding categorical features"
   ]
  },
  {
   "cell_type": "markdown",
   "id": "7f9627ce-476a-42a2-a9b2-3a497f09418c",
   "metadata": {},
   "source": [
    "##### function to convert Yes/Y to 1 and No/N to 0 in FLAG_OWN_CAR, FLAG_OWN_REALTY and EMERGENCYSTATE_MODE columns"
   ]
  },
  {
   "cell_type": "code",
   "execution_count": 13,
   "id": "e417e044-f004-4bef-ba98-814f99e8617e",
   "metadata": {},
   "outputs": [],
   "source": [
    "def encode_bin(X):\n",
    "    pd.set_option(\"future.no_silent_downcasting\", True)\n",
    "    \n",
    "    X['FLAG_OWN_CAR'] = X['FLAG_OWN_CAR'].replace({'Y': 1, 'N': 0})\n",
    "    X['FLAG_OWN_CAR'] = X['FLAG_OWN_CAR'].astype('float64')\n",
    "    # print(X['FLAG_OWN_CAR'].head(3))\n",
    "    \n",
    "    X['FLAG_OWN_REALTY'] = X['FLAG_OWN_REALTY'].replace({'Y': 1, 'N': 0}) \n",
    "    X['FLAG_OWN_REALTY'] = X['FLAG_OWN_REALTY'].astype('float64')\n",
    "    # print(X['FLAG_OWN_REALTY'].head(3))\n",
    "    \n",
    "    X['EMERGENCYSTATE_MODE'] = X['EMERGENCYSTATE_MODE'].replace({'Yes': 1, 'No': 0})\n",
    "    X['EMERGENCYSTATE_MODE'] = X['EMERGENCYSTATE_MODE'].astype('float64')\n",
    "    # print(X_train['EMERGENCYSTATE_MODE'].head(3))\n",
    "    return X"
   ]
  },
  {
   "cell_type": "code",
   "execution_count": 14,
   "id": "1f401264-df25-4bbc-8d2c-eb312a6fb421",
   "metadata": {},
   "outputs": [],
   "source": [
    "X_train = encode_bin(X_train)\n",
    "X_test = encode_bin(X_test)"
   ]
  },
  {
   "cell_type": "markdown",
   "id": "56542bb5-bc82-4054-93f6-f9d211ba70a1",
   "metadata": {},
   "source": [
    "##### function to raplace nulls in cat cols with 'unknown' for preventing undesired behaviour in one-hot-encoding"
   ]
  },
  {
   "cell_type": "code",
   "execution_count": 15,
   "id": "06669710-a9e5-4640-91b7-dfaa2616373c",
   "metadata": {},
   "outputs": [],
   "source": [
    "def replace_nulls(X):\n",
    "    categorical = X.select_dtypes(include=['object'])\n",
    "    cat_cols = categorical.columns.tolist()\n",
    "    print(cat_cols)\n",
    "    uniques_sum = 0\n",
    "    # print('number of unique values in each column and nulls')\n",
    "    for cat_col in cat_cols:\n",
    "        unique_cnt = len(categorical[cat_col].unique())\n",
    "        null_cnt = categorical[cat_col].isna().sum()\n",
    "        \n",
    "        if(null_cnt > 0):\n",
    "            X[cat_col] = X[cat_col].fillna('unknown')\n",
    "    \n",
    "        # null_cnt_updated = X_train[cat_col].isna().sum()\n",
    "        # print(f'{cat_col}:{unique_cnt}, null:{null_cnt_updated}')\n",
    "        # uniques_sum += unique_cnt\n",
    "    # print()\n",
    "    # print(f\"total unique value counts:{uniques_sum}\")\n",
    "    return X"
   ]
  },
  {
   "cell_type": "code",
   "execution_count": 16,
   "id": "99ed7b8b-9805-47a9-a832-7194b462f1ba",
   "metadata": {},
   "outputs": [
    {
     "name": "stdout",
     "output_type": "stream",
     "text": [
      "['NAME_CONTRACT_TYPE', 'CODE_GENDER', 'NAME_TYPE_SUITE', 'NAME_INCOME_TYPE', 'NAME_EDUCATION_TYPE', 'NAME_FAMILY_STATUS', 'NAME_HOUSING_TYPE', 'OCCUPATION_TYPE', 'WEEKDAY_APPR_PROCESS_START', 'ORGANIZATION_TYPE', 'FONDKAPREMONT_MODE', 'HOUSETYPE_MODE', 'WALLSMATERIAL_MODE']\n",
      "['NAME_CONTRACT_TYPE', 'CODE_GENDER', 'NAME_TYPE_SUITE', 'NAME_INCOME_TYPE', 'NAME_EDUCATION_TYPE', 'NAME_FAMILY_STATUS', 'NAME_HOUSING_TYPE', 'OCCUPATION_TYPE', 'WEEKDAY_APPR_PROCESS_START', 'ORGANIZATION_TYPE', 'FONDKAPREMONT_MODE', 'HOUSETYPE_MODE', 'WALLSMATERIAL_MODE']\n",
      "After replacing nulls in categorical features with 'Unknown' null counts are as follows\n"
     ]
    },
    {
     "data": {
      "text/plain": [
       "NAME_CONTRACT_TYPE            0\n",
       "CODE_GENDER                   0\n",
       "NAME_TYPE_SUITE               0\n",
       "NAME_INCOME_TYPE              0\n",
       "NAME_EDUCATION_TYPE           0\n",
       "NAME_FAMILY_STATUS            0\n",
       "NAME_HOUSING_TYPE             0\n",
       "OCCUPATION_TYPE               0\n",
       "WEEKDAY_APPR_PROCESS_START    0\n",
       "ORGANIZATION_TYPE             0\n",
       "FONDKAPREMONT_MODE            0\n",
       "HOUSETYPE_MODE                0\n",
       "WALLSMATERIAL_MODE            0\n",
       "dtype: int64"
      ]
     },
     "execution_count": 16,
     "metadata": {},
     "output_type": "execute_result"
    }
   ],
   "source": [
    "X_train = replace_nulls(X_train)\n",
    "X_test = replace_nulls(X_test)\n",
    "\n",
    "# X_train = X_train.fillna('unknown')\n",
    "# X_test = X_test.fillna('unknown')\n",
    "\n",
    "categorical = X_train.select_dtypes(include=['object'])\n",
    "cat_cols = categorical.columns.tolist()\n",
    "print(\"After replacing nulls in categorical features with 'Unknown' null counts are as follows\")\n",
    "X_train[cat_cols].isna().sum()"
   ]
  },
  {
   "cell_type": "markdown",
   "id": "c9a54f26-070c-47b1-98ff-88ac0a49e7d4",
   "metadata": {},
   "source": [
    "*`one-hot encoding`*"
   ]
  },
  {
   "cell_type": "code",
   "execution_count": 17,
   "id": "81de1259-12de-4682-8d11-8de22c97a4fb",
   "metadata": {},
   "outputs": [],
   "source": [
    "ohe = OneHotEncoder()\n",
    "encodded = ohe.fit_transform(X_train[cat_cols])\n",
    "\n",
    "X_encd = encodded.toarray()\n",
    "X_train = X_train.drop(cat_cols, axis=1)\n",
    "X_train = np.array(X_train)\n",
    "\n",
    "X_train = np.append(X_train, X_encd, axis=1)"
   ]
  },
  {
   "cell_type": "code",
   "execution_count": 18,
   "id": "b27a279c-11c2-471f-80d9-ec552fb450cf",
   "metadata": {},
   "outputs": [
    {
     "data": {
      "text/plain": [
       "(246008, 247)"
      ]
     },
     "execution_count": 18,
     "metadata": {},
     "output_type": "execute_result"
    }
   ],
   "source": [
    "X_train.shape"
   ]
  },
  {
   "cell_type": "code",
   "execution_count": 19,
   "id": "4bd1c9b3-272d-45b1-ab31-7e0ecb1297bb",
   "metadata": {},
   "outputs": [],
   "source": [
    "encodded = ohe.transform(X_test[cat_cols])\n",
    "y_encd = encodded.toarray()\n",
    "X_test = X_test.drop(cat_cols, axis=1)\n",
    "X_test = np.array(X_test)\n",
    "\n",
    "X_test = np.append(X_test, y_encd, axis=1)"
   ]
  },
  {
   "cell_type": "code",
   "execution_count": 20,
   "id": "64689760-b462-4b8f-a40a-e7e3e84e6206",
   "metadata": {},
   "outputs": [
    {
     "data": {
      "text/plain": [
       "(61503, 247)"
      ]
     },
     "execution_count": 20,
     "metadata": {},
     "output_type": "execute_result"
    }
   ],
   "source": [
    "X_test.shape"
   ]
  },
  {
   "cell_type": "markdown",
   "id": "3c2a1eee-2afc-44d2-bda1-db07a10ca61b",
   "metadata": {},
   "source": [
    "#### Checking Correlation between the features and the Target"
   ]
  },
  {
   "cell_type": "code",
   "execution_count": 21,
   "id": "f1405608-faa0-4a6e-81f5-4900fca80dd4",
   "metadata": {},
   "outputs": [
    {
     "data": {
      "image/png": "[encoded data removed]",
      "text/plain": [
       "<Figure size 2000x500 with 1 Axes>"
      ]
     },
     "metadata": {},
     "output_type": "display_data"
    }
   ],
   "source": [
    "# concatenate x_train and y_train\n",
    "combined = np.concatenate((X_train, np.array([y_train]).T), axis=1) # both have same dimensions\n",
    "# convert into a pandas dataframe\n",
    "x_df = pd.DataFrame(combined)\n",
    "# rename lastly added one as TARGET\n",
    "x_df.rename(columns={x_df.columns[247]:'TARGET'}, inplace=True)\n",
    "# calculating the correlations with TARGET\n",
    "corr = x_df.corrwith(x_df['TARGET'])\n",
    "# take the absolute value\n",
    "corrt = abs(corr)\n",
    "# sorting in ascending order\n",
    "corrt.sort_values(ascending=True)\n",
    "\n",
    "corrt = corrt[corrt[corrt > 0.005].index]\n",
    "corrt = corrt[:-1]\n",
    "\n",
    "# plotting\n",
    "plt.figure(figsize=(20,5))\n",
    "plt.bar(np.arange(corrt.shape[0]), corrt)\n",
    "plt.xlabel('feature')\n",
    "plt.ylabel('correlation')\n",
    "plt.title('Pairwise Correlation of each Feature with Target variable')\n",
    "plt.show()"
   ]
  },
  {
   "cell_type": "markdown",
   "id": "405a182a-e737-44dc-ad7e-89964f8c3d6c",
   "metadata": {},
   "source": [
    "#### Drop non correlated data"
   ]
  },
  {
   "cell_type": "code",
   "execution_count": 22,
   "id": "ef64dd29-9fe4-46ad-a6ca-7cfdba02dd99",
   "metadata": {},
   "outputs": [
    {
     "name": "stdout",
     "output_type": "stream",
     "text": [
      "(246008, 160)\n",
      "(61503, 160)\n",
      "(246008,)\n",
      "(61503,)\n"
     ]
    }
   ],
   "source": [
    "X_train = X_train[:, corrt.index.tolist()]\n",
    "X_test = X_test[:, corrt.index.tolist()]\n",
    "\n",
    "print(X_train.shape)\n",
    "print(X_test.shape)\n",
    "print(y_train.shape)\n",
    "print(y_test.shape)"
   ]
  },
  {
   "cell_type": "markdown",
   "id": "fdd45279",
   "metadata": {},
   "source": [
    "#### Replace missing values"
   ]
  },
  {
   "cell_type": "code",
   "execution_count": 23,
   "id": "b6648eae",
   "metadata": {},
   "outputs": [],
   "source": [
    "imputer = SimpleImputer(strategy='mean')\n",
    "X_train = imputer.fit_transform(X_train)\n",
    "X_test = imputer.transform(X_test)"
   ]
  },
  {
   "cell_type": "markdown",
   "id": "53f09ecf",
   "metadata": {},
   "source": [
    "#### Oversampling"
   ]
  },
  {
   "cell_type": "code",
   "execution_count": 24,
   "id": "8759c125",
   "metadata": {},
   "outputs": [],
   "source": [
    "smote = SMOTE()\n",
    "X_train, y_train = smote.fit_resample(X_train, y_train)"
   ]
  },
  {
   "cell_type": "code",
   "execution_count": 25,
   "id": "3acb8d80",
   "metadata": {},
   "outputs": [
    {
     "data": {
      "image/png": "[encoded data removed]",
      "text/plain": [
       "<Figure size 640x480 with 1 Axes>"
      ]
     },
     "metadata": {},
     "output_type": "display_data"
    }
   ],
   "source": [
    "plt.hist(y_train, bins=[-0.5, 0.5, 1.5], edgecolor='black', align='mid')\n",
    "plt.xticks([0, 1])\n",
    "plt.xlabel('Class')\n",
    "plt.ylabel('Frequency')\n",
    "plt.show()"
   ]
  },
  {
   "cell_type": "markdown",
   "id": "4d9e4b54-789f-43c3-b92f-ffebf807ee03",
   "metadata": {},
   "source": [
    "#### Model training with XGBoost with one-hot-encodded features"
   ]
  },
  {
   "cell_type": "code",
   "execution_count": 26,
   "id": "1476b6d0-4121-4979-844f-f18e73fc75b7",
   "metadata": {},
   "outputs": [
    {
     "name": "stdout",
     "output_type": "stream",
     "text": [
      "[[56374   164]\n",
      " [ 4813   152]]\n",
      "              precision    recall  f1-score   support\n",
      "\n",
      "           0       0.92      1.00      0.96     56538\n",
      "           1       0.48      0.03      0.06      4965\n",
      "\n",
      "    accuracy                           0.92     61503\n",
      "   macro avg       0.70      0.51      0.51     61503\n",
      "weighted avg       0.89      0.92      0.89     61503\n",
      "\n"
     ]
    }
   ],
   "source": [
    "import xgboost as xgb\n",
    "from sklearn.metrics import confusion_matrix, classification_report\n",
    "from sklearn.preprocessing import StandardScaler\n",
    "\n",
    "# Prepare data\n",
    "X_train_selected = np.array(X_train)\n",
    "X_test_selected = np.array(X_test)\n",
    "\n",
    "stdscl = StandardScaler()\n",
    "X_train_selected = stdscl.fit_transform(X_train_selected)\n",
    "X_test_selected = stdscl.transform(X_test_selected)\n",
    "\n",
    "# Train XGBoost classifier\n",
    "model = xgb.XGBClassifier()\n",
    "model.fit(X_train_selected, y_train)\n",
    "\n",
    "# Predict and evaluate\n",
    "y_pred = model.predict(X_test_selected)\n",
    "print(confusion_matrix(y_test, y_pred))\n",
    "print(classification_report(y_test, y_pred))"
   ]
  },
  {
   "cell_type": "code",
   "execution_count": 27,
   "id": "c08021ca-82c7-4bf3-9e36-e1e0fc0fe41f",
   "metadata": {},
   "outputs": [
    {
     "data": {
      "text/plain": [
       "array([0.02823845, 0.02292724, 0.00351007, 0.00052177, 0.00042693,\n",
       "       0.00058333, 0.00031177, 0.00036463, 0.00052108, 0.00027736,\n",
       "       0.00030049, 0.00069985, 0.0004644 , 0.00969873, 0.04391357,\n",
       "       0.00091429, 0.03683322, 0.00308195, 0.00069195, 0.00036852,\n",
       "       0.00448157, 0.06766233, 0.00074248, 0.00106184, 0.00370789,\n",
       "       0.01121838, 0.000309  , 0.00028423, 0.00026811, 0.00023349,\n",
       "       0.00024166, 0.00125833, 0.0002846 , 0.00033166, 0.00014069,\n",
       "       0.00026927, 0.00026226, 0.00028819, 0.00023597, 0.0002965 ,\n",
       "       0.00026508, 0.00026181, 0.00030695, 0.00030798, 0.00354261,\n",
       "       0.00045967, 0.00146806, 0.00042206, 0.0002862 , 0.00029721,\n",
       "       0.00030251, 0.00027491, 0.0002823 , 0.00024627, 0.00027693,\n",
       "       0.00034049, 0.00023032, 0.00054654, 0.00037338, 0.00115719,\n",
       "       0.0003583 , 0.00030361, 0.00033358, 0.00033604, 0.0002501 ,\n",
       "       0.00026163, 0.05152556, 0.0090123 , 0.00541825, 0.00498944,\n",
       "       0.00161846, 0.00033261, 0.02074511, 0.00836177, 0.00023946,\n",
       "       0.00019361, 0.00028996, 0.0001272 , 0.00034396, 0.00042688,\n",
       "       0.01241433, 0.00806377, 0.00169971, 0.00186116, 0.03495634,\n",
       "       0.08188935, 0.00025967, 0.01896601, 0.        , 0.00095039,\n",
       "       0.00053811, 0.00157913, 0.00016007, 0.06429292, 0.00015525,\n",
       "       0.02500288, 0.00067035, 0.04870674, 0.00027817, 0.04443016,\n",
       "       0.00323543, 0.00034297, 0.00394555, 0.00029521, 0.00038485,\n",
       "       0.00053383, 0.00066645, 0.00036084, 0.00028844, 0.00247281,\n",
       "       0.00521623, 0.00036675, 0.02765904, 0.00046438, 0.00023492,\n",
       "       0.00025921, 0.00014966, 0.01008568, 0.00034727, 0.00036816,\n",
       "       0.0005088 , 0.00730956, 0.00028597, 0.        , 0.00865975,\n",
       "       0.00099222, 0.00027718, 0.00031911, 0.00013179, 0.0003933 ,\n",
       "       0.00038686, 0.00025105, 0.00027218, 0.00041921, 0.00016501,\n",
       "       0.00027788, 0.00028847, 0.0003451 , 0.00021813, 0.00016895,\n",
       "       0.00475819, 0.00026534, 0.00021647, 0.00054042, 0.00053148,\n",
       "       0.00037695, 0.00054895, 0.        , 0.        , 0.00153197,\n",
       "       0.00019919, 0.00112711, 0.05878524, 0.00089998, 0.00035229,\n",
       "       0.00018028, 0.04144367, 0.02174281, 0.0002367 , 0.07469587],\n",
       "      dtype=float32)"
      ]
     },
     "execution_count": 27,
     "metadata": {},
     "output_type": "execute_result"
    }
   ],
   "source": [
    "# Get feature importances\n",
    "model.feature_importances_"
   ]
  }
 ],
 "metadata": {
  "kernelspec": {
   "display_name": "Python 3 (ipykernel)",
   "language": "python",
   "name": "python3"
  },
  "language_info": {
   "codemirror_mode": {
    "name": "ipython",
    "version": 3
   },
   "file_extension": ".py",
   "mimetype": "text/x-python",
   "name": "python",
   "nbconvert_exporter": "python",
   "pygments_lexer": "ipython3",
   "version": "3.12.4"
  }
 },
 "nbformat": 4,
 "nbformat_minor": 5
}
